{
 "cells": [
  {
   "cell_type": "markdown",
   "metadata": {},
   "source": [
    "# Data Cleaning\n",
    "\n",
    "This notebook presents the whole data cleaning process, which consists in extracting new tables and relations, as well as cleaning the existing files from dirty tuples and values.\n",
    "\n",
    "The new clean data files are saved in the `.csv` format, and will be used to load data to the database."
   ]
  },
  {
   "cell_type": "code",
   "execution_count": 68,
   "metadata": {
    "collapsed": true
   },
   "outputs": [],
   "source": [
    "# Import packages\n",
    "import pandas as pd\n",
    "import os\n",
    "import numpy as np"
   ]
  },
  {
   "cell_type": "markdown",
   "metadata": {},
   "source": [
    "## Data loading\n",
    "\n",
    "We first import all the `.csv` files into `pandas` DataFrames.\n",
    "\n",
    "_Note_: some lines are ill-formed, we choose to ignore them."
   ]
  },
  {
   "cell_type": "code",
   "execution_count": 69,
   "metadata": {},
   "outputs": [
    {
     "name": "stderr",
     "output_type": "stream",
     "text": [
      "/usr/local/lib/python3.6/site-packages/IPython/core/interactiveshell.py:2717: DtypeWarning: Columns (12) have mixed types. Specify dtype option on import or set low_memory=False.\n",
      "  interactivity=interactivity, compiler=compiler, result=result)\n",
      "/usr/local/lib/python3.6/site-packages/IPython/core/interactiveshell.py:2717: DtypeWarning: Columns (2,5) have mixed types. Specify dtype option on import or set low_memory=False.\n",
      "  interactivity=interactivity, compiler=compiler, result=result)\n",
      "b'Skipping line 6010: expected 16 fields, saw 29\\nSkipping line 14907: expected 16 fields, saw 29\\n'\n",
      "b'Skipping line 142947: expected 16 fields, saw 27\\n'\n",
      "b'Skipping line 379178: expected 16 fields, saw 27\\n'\n",
      "b'Skipping line 411105: expected 16 fields, saw 18\\n'\n",
      "b'Skipping line 532885: expected 16 fields, saw 27\\n'\n",
      "b'Skipping line 625092: expected 16 fields, saw 27\\n'\n",
      "b'Skipping line 743624: expected 16 fields, saw 27\\n'\n",
      "b'Skipping line 786680: expected 16 fields, saw 27\\n'\n",
      "b'Skipping line 892034: expected 16 fields, saw 29\\n'\n",
      "b'Skipping line 1157212: expected 16 fields, saw 29\\nSkipping line 1157657: expected 16 fields, saw 29\\n'\n",
      "b'Skipping line 1265876: expected 16 fields, saw 29\\n'\n",
      "b'Skipping line 1460021: expected 16 fields, saw 22\\n'\n",
      "b'Skipping line 1591431: expected 16 fields, saw 29\\n'\n",
      "b'Skipping line 1615982: expected 16 fields, saw 29\\nSkipping line 1623916: expected 16 fields, saw 23\\n'\n",
      "/usr/local/lib/python3.6/site-packages/IPython/core/interactiveshell.py:2717: DtypeWarning: Columns (3) have mixed types. Specify dtype option on import or set low_memory=False.\n",
      "  interactivity=interactivity, compiler=compiler, result=result)\n"
     ]
    }
   ],
   "source": [
    "# Root of the data files\n",
    "PATH = os.path.join('..', 'data', 'original')\n",
    "\n",
    "# Dic: name -> dataframe\n",
    "dataframes = {}\n",
    "\n",
    "# Get all the original files\n",
    "for file in os.listdir(PATH):\n",
    "    name = file.split('.')[0]\n",
    "    # Note: some lines are ill-formed, we ignore them\n",
    "    dataframes[name] = pd.read_csv(os.path.join(PATH, file), error_bad_lines=False)"
   ]
  },
  {
   "cell_type": "markdown",
   "metadata": {},
   "source": [
    "## Notes table\n",
    "\n",
    "This part aims to extract the notes from each table containing a `notes` attributes. Notes are loaded in a new table, and replaced by foreign keys in the original tables.\n"
   ]
  },
  {
   "cell_type": "markdown",
   "metadata": {},
   "source": [
    "We first concatenate all the notes from all the dataframes."
   ]
  },
  {
   "cell_type": "code",
   "execution_count": 70,
   "metadata": {},
   "outputs": [
    {
     "data": {
      "text/plain": [
       "1    Used for the MLJ superheroes that DC licensed ...\n",
       "2    An imprint of HarperCollins Publishers; URL li...\n",
       "3    Lancé en 2008 le label Fusion Comics était com...\n",
       "4    a highly-stylized \"A\" with the crossbar formed...\n",
       "5                Letter B is larger than rest of text.\n",
       "dtype: object"
      ]
     },
     "execution_count": 70,
     "metadata": {},
     "output_type": "execute_result"
    }
   ],
   "source": [
    "notes = pd.Series()\n",
    "for _, df in dataframes.items():\n",
    "    if 'notes' in df.columns: \n",
    "        note = df['notes'].dropna()\n",
    "        notes = notes.append(note, ignore_index=True)\n",
    "\n",
    "# Keep unique notes\n",
    "notes = notes.drop_duplicates(keep='first').reset_index(drop=True)\n",
    "# Shift to start with ID 1\n",
    "notes.index = notes.index + 1\n",
    "notes.head()"
   ]
  },
  {
   "cell_type": "markdown",
   "metadata": {},
   "source": [
    "Create the new notes dataframe:"
   ]
  },
  {
   "cell_type": "code",
   "execution_count": 71,
   "metadata": {},
   "outputs": [
    {
     "data": {
      "text/html": [
       "<div>\n",
       "<table border=\"1\" class=\"dataframe\">\n",
       "  <thead>\n",
       "    <tr style=\"text-align: right;\">\n",
       "      <th></th>\n",
       "      <th>notes</th>\n",
       "      <th>id</th>\n",
       "    </tr>\n",
       "  </thead>\n",
       "  <tbody>\n",
       "    <tr>\n",
       "      <th>1</th>\n",
       "      <td>Used for the MLJ superheroes that DC licensed ...</td>\n",
       "      <td>1</td>\n",
       "    </tr>\n",
       "    <tr>\n",
       "      <th>2</th>\n",
       "      <td>An imprint of HarperCollins Publishers; URL li...</td>\n",
       "      <td>2</td>\n",
       "    </tr>\n",
       "    <tr>\n",
       "      <th>3</th>\n",
       "      <td>Lancé en 2008 le label Fusion Comics était com...</td>\n",
       "      <td>3</td>\n",
       "    </tr>\n",
       "    <tr>\n",
       "      <th>4</th>\n",
       "      <td>a highly-stylized \"A\" with the crossbar formed...</td>\n",
       "      <td>4</td>\n",
       "    </tr>\n",
       "    <tr>\n",
       "      <th>5</th>\n",
       "      <td>Letter B is larger than rest of text.</td>\n",
       "      <td>5</td>\n",
       "    </tr>\n",
       "  </tbody>\n",
       "</table>\n",
       "</div>"
      ],
      "text/plain": [
       "                                               notes  id\n",
       "1  Used for the MLJ superheroes that DC licensed ...   1\n",
       "2  An imprint of HarperCollins Publishers; URL li...   2\n",
       "3  Lancé en 2008 le label Fusion Comics était com...   3\n",
       "4  a highly-stylized \"A\" with the crossbar formed...   4\n",
       "5              Letter B is larger than rest of text.   5"
      ]
     },
     "execution_count": 71,
     "metadata": {},
     "output_type": "execute_result"
    }
   ],
   "source": [
    "# Form a DataFrame from the note Series\n",
    "notes_df = notes.to_frame()\n",
    "notes_df.columns = ['notes']\n",
    "notes_df['id'] = notes_df.index\n",
    "\n",
    "dataframes['notes'] = notes_df[['id', 'notes']]\n",
    "notes_df.head()"
   ]
  },
  {
   "cell_type": "markdown",
   "metadata": {},
   "source": [
    "Replace the notes by the IDs in the original tables:"
   ]
  },
  {
   "cell_type": "code",
   "execution_count": 72,
   "metadata": {
    "collapsed": true
   },
   "outputs": [],
   "source": [
    "# Series from notes to uniqueID\n",
    "notes_mapper = pd.Series(notes.index, index=notes)\n",
    "\n",
    "for name, df in dataframes.items():\n",
    "    # Skip the notes dataframe obviously\n",
    "    if name == 'notes':\n",
    "        continue\n",
    "    \n",
    "    if 'notes' in df.columns:\n",
    "        # Map notes to their IDs\n",
    "        df['notes'] = df['notes'].map(notes_mapper)"
   ]
  },
  {
   "cell_type": "markdown",
   "metadata": {},
   "source": [
    "## Artists table\n",
    "\n",
    "We first scan through all the different categories of artists , clean the data and then store all artist in one single table as described in our ER diagram."
   ]
  },
  {
   "cell_type": "code",
   "execution_count": 115,
   "metadata": {},
   "outputs": [
    {
     "data": {
      "text/plain": [
       "1                   Gustave Doré\n",
       "2    Wilhelm Busch; Harry Rogers\n",
       "3         The Donaldson Brothers\n",
       "4                  Wilhelm Busch\n",
       "5                  Richard Doyle\n",
       "dtype: object"
      ]
     },
     "execution_count": 115,
     "metadata": {},
     "output_type": "execute_result"
    }
   ],
   "source": [
    "# Make table to store the list of all artists\n",
    "all_artists = pd.Series()\n",
    "# Dictionnary to store all artists of one category\n",
    "artists = {}\n",
    "categories = ['script','pencils','inks','colors','letters']\n",
    "story_df = dataframes['story']\n",
    "\n",
    "for category in categories:\n",
    "    #remove all data in () and in [], removes trailing white space and set empty cells to nan\n",
    "    story_df[category] = story_df[category].str.replace(r\"(\\(.*\\))|(\\[.*\\])|\\?\",\"\").str.strip('; ').replace('',np.nan)\n",
    "\n",
    "    artists[category] = story_df[category]\n",
    "    # Set the index of artists to the corresponding stoy_id\n",
    "    artists[category].index = story_df['id']\n",
    "    #remove nan\n",
    "    artists[category] = artists[category].dropna()\n",
    "    #add artits to the global table\n",
    "    all_artists = all_artists.append(artists[category],ignore_index=True)\n",
    "    \n",
    "# Keep unique artists\n",
    "all_artists = all_artists.drop_duplicates(keep='first').reset_index(drop=True)\n",
    "# Shift to start with ID 1\n",
    "all_artists.index = all_artists.index + 1\n",
    "all_artists.head()\n"
   ]
  },
  {
   "cell_type": "markdown",
   "metadata": {},
   "source": [
    "Here, we correctly index the different category of artists table with the correct story index and the correct artists index. We also save these artists in the dataframe where we store all our tables."
   ]
  },
  {
   "cell_type": "code",
   "execution_count": 118,
   "metadata": {},
   "outputs": [
    {
     "ename": "AttributeError",
     "evalue": "'DataFrame' object has no attribute 'to_frame'",
     "output_type": "error",
     "traceback": [
      "\u001b[0;31m---------------------------------------------------------------------------\u001b[0m",
      "\u001b[0;31mAttributeError\u001b[0m                            Traceback (most recent call last)",
      "\u001b[0;32m<ipython-input-118-69935ee193a6>\u001b[0m in \u001b[0;36m<module>\u001b[0;34m()\u001b[0m\n\u001b[1;32m      4\u001b[0m \u001b[0;32mfor\u001b[0m \u001b[0mcategory\u001b[0m \u001b[0;32min\u001b[0m \u001b[0mcategories\u001b[0m\u001b[0;34m:\u001b[0m\u001b[0;34m\u001b[0m\u001b[0m\n\u001b[1;32m      5\u001b[0m \u001b[0;34m\u001b[0m\u001b[0m\n\u001b[0;32m----> 6\u001b[0;31m     \u001b[0martists\u001b[0m\u001b[0;34m[\u001b[0m\u001b[0mcategory\u001b[0m\u001b[0;34m]\u001b[0m \u001b[0;34m=\u001b[0m \u001b[0martists\u001b[0m\u001b[0;34m[\u001b[0m\u001b[0mcategory\u001b[0m\u001b[0;34m]\u001b[0m\u001b[0;34m.\u001b[0m\u001b[0mto_frame\u001b[0m\u001b[0;34m(\u001b[0m\u001b[0;34m)\u001b[0m\u001b[0;34m\u001b[0m\u001b[0m\n\u001b[0m\u001b[1;32m      7\u001b[0m     \u001b[0martists\u001b[0m\u001b[0;34m[\u001b[0m\u001b[0mcategory\u001b[0m\u001b[0;34m]\u001b[0m\u001b[0;34m[\u001b[0m\u001b[0;34m'story_id'\u001b[0m\u001b[0;34m]\u001b[0m \u001b[0;34m=\u001b[0m \u001b[0martists\u001b[0m\u001b[0;34m[\u001b[0m\u001b[0mcategory\u001b[0m\u001b[0;34m]\u001b[0m\u001b[0;34m.\u001b[0m\u001b[0mindex\u001b[0m\u001b[0;34m\u001b[0m\u001b[0m\n\u001b[1;32m      8\u001b[0m     \u001b[0martists\u001b[0m\u001b[0;34m[\u001b[0m\u001b[0mcategory\u001b[0m\u001b[0;34m]\u001b[0m\u001b[0;34m.\u001b[0m\u001b[0mcolumns\u001b[0m \u001b[0;34m=\u001b[0m \u001b[0;34m[\u001b[0m\u001b[0;34m'artist_id'\u001b[0m\u001b[0;34m,\u001b[0m\u001b[0;34m'story_id'\u001b[0m\u001b[0;34m]\u001b[0m\u001b[0;34m\u001b[0m\u001b[0m\n",
      "\u001b[0;32m/usr/local/lib/python3.6/site-packages/pandas/core/generic.py\u001b[0m in \u001b[0;36m__getattr__\u001b[0;34m(self, name)\u001b[0m\n\u001b[1;32m   2742\u001b[0m             \u001b[0;32mif\u001b[0m \u001b[0mname\u001b[0m \u001b[0;32min\u001b[0m \u001b[0mself\u001b[0m\u001b[0;34m.\u001b[0m\u001b[0m_info_axis\u001b[0m\u001b[0;34m:\u001b[0m\u001b[0;34m\u001b[0m\u001b[0m\n\u001b[1;32m   2743\u001b[0m                 \u001b[0;32mreturn\u001b[0m \u001b[0mself\u001b[0m\u001b[0;34m[\u001b[0m\u001b[0mname\u001b[0m\u001b[0;34m]\u001b[0m\u001b[0;34m\u001b[0m\u001b[0m\n\u001b[0;32m-> 2744\u001b[0;31m             \u001b[0;32mreturn\u001b[0m \u001b[0mobject\u001b[0m\u001b[0;34m.\u001b[0m\u001b[0m__getattribute__\u001b[0m\u001b[0;34m(\u001b[0m\u001b[0mself\u001b[0m\u001b[0;34m,\u001b[0m \u001b[0mname\u001b[0m\u001b[0;34m)\u001b[0m\u001b[0;34m\u001b[0m\u001b[0m\n\u001b[0m\u001b[1;32m   2745\u001b[0m \u001b[0;34m\u001b[0m\u001b[0m\n\u001b[1;32m   2746\u001b[0m     \u001b[0;32mdef\u001b[0m \u001b[0m__setattr__\u001b[0m\u001b[0;34m(\u001b[0m\u001b[0mself\u001b[0m\u001b[0;34m,\u001b[0m \u001b[0mname\u001b[0m\u001b[0;34m,\u001b[0m \u001b[0mvalue\u001b[0m\u001b[0;34m)\u001b[0m\u001b[0;34m:\u001b[0m\u001b[0;34m\u001b[0m\u001b[0m\n",
      "\u001b[0;31mAttributeError\u001b[0m: 'DataFrame' object has no attribute 'to_frame'"
     ]
    }
   ],
   "source": [
    "# Series from artists to uniqueID\n",
    "artist_mapper = pd.Series(all_artists.index, index=all_artists)\n",
    "\n",
    "for category in categories:\n",
    "   \n",
    "    artists[category] = artists[category].to_frame() \n",
    "    artists[category]['story_id'] = artists[category].index\n",
    "    artists[category].columns = ['artist_id','story_id']\n",
    "    artists[category]['artist_id'] = artists[category]['artist_id'].map(artist_mapper)\n",
    "    \n",
    "    dataframes[category] = artists[category]\n",
    "    \n",
    "    \n",
    "dataframes['artists'] = all_artists.to_frame()\n",
    "dataframes['artists'].head()"
   ]
  },
  {
   "cell_type": "code",
   "execution_count": 117,
   "metadata": {},
   "outputs": [
    {
     "data": {
      "text/html": [
       "<div>\n",
       "<table border=\"1\" class=\"dataframe\">\n",
       "  <thead>\n",
       "    <tr style=\"text-align: right;\">\n",
       "      <th></th>\n",
       "      <th>0</th>\n",
       "    </tr>\n",
       "  </thead>\n",
       "  <tbody>\n",
       "    <tr>\n",
       "      <th>1</th>\n",
       "      <td>Gustave Doré</td>\n",
       "    </tr>\n",
       "    <tr>\n",
       "      <th>2</th>\n",
       "      <td>Wilhelm Busch; Harry Rogers</td>\n",
       "    </tr>\n",
       "    <tr>\n",
       "      <th>3</th>\n",
       "      <td>The Donaldson Brothers</td>\n",
       "    </tr>\n",
       "    <tr>\n",
       "      <th>4</th>\n",
       "      <td>Wilhelm Busch</td>\n",
       "    </tr>\n",
       "    <tr>\n",
       "      <th>5</th>\n",
       "      <td>Richard Doyle</td>\n",
       "    </tr>\n",
       "  </tbody>\n",
       "</table>\n",
       "</div>"
      ],
      "text/plain": [
       "                             0\n",
       "1                 Gustave Doré\n",
       "2  Wilhelm Busch; Harry Rogers\n",
       "3       The Donaldson Brothers\n",
       "4                Wilhelm Busch\n",
       "5                Richard Doyle"
      ]
     },
     "execution_count": 117,
     "metadata": {},
     "output_type": "execute_result"
    }
   ],
   "source": [
    "for category in categories:\n",
    "    story_df = story_df.drop(category,axis = 1)\n",
    "dataframes['story']= story_df\n"
   ]
  },
  {
   "cell_type": "markdown",
   "metadata": {},
   "source": [
    "## Individual files cleaning\n",
    "\n",
    "This part aims to clean each `.csv` file individually in order to remove dirty rows and clear values that need some special treatment."
   ]
  },
  {
   "cell_type": "markdown",
   "metadata": {
    "collapsed": true
   },
   "source": [
    "### Country\n",
    "\n",
    "By browsing the country data, we see that one row is not valid, with ID 248. We see in the cell below that for `publisher`, for example, no row references this ID, which is with high probably pure dirty data, we can safely remove it."
   ]
  },
  {
   "cell_type": "code",
   "execution_count": 75,
   "metadata": {},
   "outputs": [
    {
     "name": "stdout",
     "output_type": "stream",
     "text": [
      "Number of publisher with country_id 248: 0.\n",
      "NaN values: \n"
     ]
    },
    {
     "data": {
      "text/plain": [
       "id      0\n",
       "code    0\n",
       "name    0\n",
       "dtype: int64"
      ]
     },
     "execution_count": 75,
     "metadata": {},
     "output_type": "execute_result"
    }
   ],
   "source": [
    "pub = dataframes['publisher']\n",
    "print('Number of publisher with country_id 248: {}.'.format(len(pub[pub['country_id'] == 248])))\n",
    "\n",
    "# Look for NaN values\n",
    "print('NaN values: ')\n",
    "df = dataframes['country']\n",
    "df.isnull().sum()"
   ]
  },
  {
   "cell_type": "code",
   "execution_count": 76,
   "metadata": {
    "collapsed": true
   },
   "outputs": [],
   "source": [
    "# Remove the desired row\n",
    "dataframes['country'] = df[df['id'] != 248]"
   ]
  },
  {
   "cell_type": "markdown",
   "metadata": {},
   "source": [
    "### Story Reprint\n",
    "\n",
    "The story reprint table needs to be full, as we don't accept _NULL_ foreign keys in this case. We see in the cell below that there are no empty cells in the table."
   ]
  },
  {
   "cell_type": "code",
   "execution_count": 77,
   "metadata": {},
   "outputs": [
    {
     "data": {
      "text/plain": [
       "id           0\n",
       "origin_id    0\n",
       "target_id    0\n",
       "dtype: int64"
      ]
     },
     "execution_count": 77,
     "metadata": {},
     "output_type": "execute_result"
    }
   ],
   "source": [
    "dataframes['story_reprint'].isnull().sum()"
   ]
  },
  {
   "cell_type": "markdown",
   "metadata": {},
   "source": [
    "### Story Type\n",
    "\n",
    "By looking at the story types we see that the third row is problematic:"
   ]
  },
  {
   "cell_type": "code",
   "execution_count": 78,
   "metadata": {},
   "outputs": [
    {
     "data": {
      "text/plain": [
       "id                                             3\n",
       "name    (backcovers) *do not use* / *please fix*\n",
       "Name: 2, dtype: object"
      ]
     },
     "execution_count": 78,
     "metadata": {},
     "output_type": "execute_result"
    }
   ],
   "source": [
    "df = dataframes['story_type']\n",
    "df.ix[2]"
   ]
  },
  {
   "cell_type": "markdown",
   "metadata": {},
   "source": [
    "We check if any story contains a reference to this row:"
   ]
  },
  {
   "cell_type": "code",
   "execution_count": 79,
   "metadata": {},
   "outputs": [
    {
     "name": "stdout",
     "output_type": "stream",
     "text": [
      "Number of stories referencing ID 3: 0.\n"
     ]
    }
   ],
   "source": [
    "stories = dataframes['story']\n",
    "print('Number of stories referencing ID 3: {}.'.format(len(stories[stories['type_id'] == 3])))"
   ]
  },
  {
   "cell_type": "markdown",
   "metadata": {},
   "source": [
    "We can safely remove it:"
   ]
  },
  {
   "cell_type": "code",
   "execution_count": 80,
   "metadata": {
    "collapsed": true
   },
   "outputs": [],
   "source": [
    "dataframes['story_type'] = df[df['id'] != 3]"
   ]
  },
  {
   "cell_type": "markdown",
   "metadata": {},
   "source": [
    "## Saving files\n",
    "\n",
    "We can now save our clean and new tables, ready for database loading."
   ]
  },
  {
   "cell_type": "code",
   "execution_count": 81,
   "metadata": {
    "collapsed": true
   },
   "outputs": [],
   "source": [
    "# Code to save data in csv files for later use\n",
    "#dataframes['notes'].to_csv('test.csv', index=False, float_format='%.0f')"
   ]
  }
 ],
 "metadata": {
  "kernelspec": {
   "display_name": "Python 3",
   "language": "python",
   "name": "python3"
  },
  "language_info": {
   "codemirror_mode": {
    "name": "ipython",
    "version": 3
   },
   "file_extension": ".py",
   "mimetype": "text/x-python",
   "name": "python",
   "nbconvert_exporter": "python",
   "pygments_lexer": "ipython3",
   "version": "3.6.0"
  }
 },
 "nbformat": 4,
 "nbformat_minor": 2
}
